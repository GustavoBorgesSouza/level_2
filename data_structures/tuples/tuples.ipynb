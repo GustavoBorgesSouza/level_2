{
 "cells": [
  {
   "cell_type": "markdown",
   "metadata": {},
   "source": [
    "# Tuples\n",
    "\n",
    "**Imutable** Arrays, ordered collection of data. Might contain itens of different types\n",
    "\n",
    "Some methods work in lists and tuples, check docs, list notebook and practice!"
   ]
  },
  {
   "cell_type": "markdown",
   "metadata": {},
   "source": [
    "## Creating and manipulating items"
   ]
  },
  {
   "cell_type": "code",
   "execution_count": 1,
   "metadata": {},
   "outputs": [
    {
     "name": "stdout",
     "output_type": "stream",
     "text": [
      "('white', 'yellow', 'orange', 'green', 'blue', 'purple', 'brown', 'red', 'black')\n",
      "('white', 'yellow', 'orange', 'green', 'blue', 'purple', 'brown', 'red', 'black')\n"
     ]
    }
   ],
   "source": [
    "belt_rankings =('white', 'yellow', 'orange', 'green', 'blue', 'purple', 'brown', 'red', 'black')\n",
    "print(belt_rankings)\n",
    "# or\n",
    "from_iterable = tuple(['white', 'yellow', 'orange', 'green', 'blue', 'purple', 'brown', 'red', 'black'])\n",
    "print(belt_rankings)"
   ]
  },
  {
   "cell_type": "code",
   "execution_count": 3,
   "metadata": {},
   "outputs": [
    {
     "name": "stdout",
     "output_type": "stream",
     "text": [
      "white\n",
      "black\n"
     ]
    }
   ],
   "source": [
    "print(belt_rankings[0])\n",
    "print(belt_rankings[-1])\n",
    "# also first and last indexes, such as in lists"
   ]
  },
  {
   "cell_type": "code",
   "execution_count": 5,
   "metadata": {},
   "outputs": [
    {
     "name": "stdout",
     "output_type": "stream",
     "text": [
      "white\n",
      "yellow\n",
      "orange\n",
      "green\n",
      "blue\n",
      "purple\n",
      "brown\n",
      "red\n",
      "black\n"
     ]
    }
   ],
   "source": [
    "for e in belt_rankings:\n",
    "    print(e)\n",
    "# it is iterable"
   ]
  },
  {
   "cell_type": "markdown",
   "metadata": {},
   "source": [
    "## When to use and what is the diference?\n",
    "\n",
    "Tuple is immutable, therefore use it when there are fixed lists such as product categories.\n",
    "\n",
    "The main difference besides being immutable is the size in bytes, because it does not deal with methods used for manipulating it.\n",
    "\n",
    "See it below:"
   ]
  },
  {
   "cell_type": "code",
   "execution_count": 10,
   "metadata": {},
   "outputs": [
    {
     "name": "stdout",
     "output_type": "stream",
     "text": [
      "The empty <class 'tuple'> object is using 40 bytes in memory\n",
      "The empty <class 'list'> object is using 56 bytes in memory\n"
     ]
    }
   ],
   "source": [
    "import sys\n",
    "\n",
    "empty_tuple = ()\n",
    "empty_list = []\n",
    "\n",
    "print(f'The empty {type(empty_tuple)} object is using {sys.getsizeof(empty_tuple)} bytes in memory')\n",
    "print(f'The empty {type(empty_list)} object is using {sys.getsizeof(empty_list)} bytes in memory')"
   ]
  }
 ],
 "metadata": {
  "kernelspec": {
   "display_name": "py312",
   "language": "python",
   "name": "python3"
  },
  "language_info": {
   "codemirror_mode": {
    "name": "ipython",
    "version": 3
   },
   "file_extension": ".py",
   "mimetype": "text/x-python",
   "name": "python",
   "nbconvert_exporter": "python",
   "pygments_lexer": "ipython3",
   "version": "3.12.1"
  }
 },
 "nbformat": 4,
 "nbformat_minor": 2
}
