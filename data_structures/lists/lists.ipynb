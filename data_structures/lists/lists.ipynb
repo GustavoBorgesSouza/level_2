{
 "cells": [
  {
   "cell_type": "markdown",
   "metadata": {},
   "source": [
    "# Lists\n",
    "\n",
    "Mutable Arrays, ordered collection of data. Very flexible and might conatin itens of different types"
   ]
  },
  {
   "cell_type": "markdown",
   "metadata": {},
   "source": [
    "## Creating and manipulating items"
   ]
  },
  {
   "cell_type": "code",
   "execution_count": 87,
   "metadata": {},
   "outputs": [
    {
     "name": "stdout",
     "output_type": "stream",
     "text": [
      "['item', 'another one', 'dj khaled']\n",
      "['item', 'another one', 'dj khaled']\n"
     ]
    }
   ],
   "source": [
    "listo = ['item', 'another one', 'dj khaled']\n",
    "print(listo)\n",
    "# or\n",
    "listo = list(('item', 'another one', 'dj khaled'))\n",
    "print(listo)"
   ]
  },
  {
   "cell_type": "code",
   "execution_count": 88,
   "metadata": {},
   "outputs": [
    {
     "name": "stdout",
     "output_type": "stream",
     "text": [
      "item\n",
      "dj khaled\n"
     ]
    }
   ],
   "source": [
    "print(listo[0])\n",
    "# first index\n",
    "print(listo[-1])\n",
    "# last index\n",
    "# yay"
   ]
  },
  {
   "cell_type": "code",
   "execution_count": 89,
   "metadata": {},
   "outputs": [
    {
     "name": "stdout",
     "output_type": "stream",
     "text": [
      "item\n",
      "another one\n",
      "dj khaled\n"
     ]
    }
   ],
   "source": [
    "for e in listo:\n",
    "    print(e)"
   ]
  },
  {
   "cell_type": "code",
   "execution_count": 90,
   "metadata": {},
   "outputs": [
    {
     "name": "stdout",
     "output_type": "stream",
     "text": [
      "item\n",
      "another one\n",
      "dj khaled\n",
      "mousse\n"
     ]
    }
   ],
   "source": [
    "listo.append('mousse')\n",
    "\n",
    "for e in listo:\n",
    "    print(e)"
   ]
  },
  {
   "cell_type": "code",
   "execution_count": 91,
   "metadata": {},
   "outputs": [
    {
     "name": "stdout",
     "output_type": "stream",
     "text": [
      "item\n",
      "position 1\n",
      "another one\n",
      "dj khaled\n",
      "mousse\n"
     ]
    }
   ],
   "source": [
    "listo.insert(1,'position 1')\n",
    "\n",
    "for e in listo:\n",
    "    print(e)"
   ]
  },
  {
   "cell_type": "code",
   "execution_count": 92,
   "metadata": {},
   "outputs": [
    {
     "name": "stdout",
     "output_type": "stream",
     "text": [
      "item\n",
      "another one\n",
      "dj khaled\n"
     ]
    }
   ],
   "source": [
    "# Removes the last index\n",
    "listo.pop() \n",
    "\n",
    "# Removes at specified index\n",
    "listo.pop(1)\n",
    "\n",
    "for e in listo:\n",
    "    print(e)"
   ]
  },
  {
   "cell_type": "code",
   "execution_count": 93,
   "metadata": {},
   "outputs": [
    {
     "name": "stdout",
     "output_type": "stream",
     "text": [
      "another one\n",
      "dj khaled\n"
     ]
    }
   ],
   "source": [
    "# Removes using value. removes the first occurence of value\n",
    "listo.remove('item')\n",
    "\n",
    "for e in listo:\n",
    "    print(e)"
   ]
  },
  {
   "cell_type": "markdown",
   "metadata": {},
   "source": [
    "## Extending and copying a list"
   ]
  },
  {
   "cell_type": "code",
   "execution_count": 94,
   "metadata": {},
   "outputs": [
    {
     "name": "stdout",
     "output_type": "stream",
     "text": [
      "['soda', 'donuts', 'popcorn', 'Noodles', 'Monster', 5]\n"
     ]
    }
   ],
   "source": [
    "products = ['soda', 'donuts', 'popcorn']\n",
    "more_products = ['Noodles', 'Monster', 5]\n",
    "\n",
    "# Append items from an iterable\n",
    "products.extend(more_products)\n",
    "print(products)"
   ]
  },
  {
   "cell_type": "code",
   "execution_count": 95,
   "metadata": {},
   "outputs": [
    {
     "name": "stdout",
     "output_type": "stream",
     "text": [
      "Original -> ['soda', 'donuts', 'popcorn', 'Noodles', 'Monster', 5]\n",
      "Copied -> ['soda', 'donuts', 'popcorn', 'Noodles', 'Monster', 5, 'Sandwich']\n"
     ]
    }
   ],
   "source": [
    "copied = products.copy()\n",
    "copied.append('Sandwich')\n",
    "\n",
    "print(f'Original -> {products}')\n",
    "print(f'Copied -> {copied}')"
   ]
  },
  {
   "cell_type": "markdown",
   "metadata": {},
   "source": [
    "## Manipulating list methods"
   ]
  },
  {
   "cell_type": "code",
   "execution_count": 96,
   "metadata": {},
   "outputs": [],
   "source": [
    "manipulation = [1,5,6,4,5,8,9,7,9,0]"
   ]
  },
  {
   "cell_type": "code",
   "execution_count": 97,
   "metadata": {},
   "outputs": [
    {
     "data": {
      "text/plain": [
       "2"
      ]
     },
     "execution_count": 97,
     "metadata": {},
     "output_type": "execute_result"
    }
   ],
   "source": [
    "# Return number of occurrences of value.\n",
    "manipulation.count(5)"
   ]
  },
  {
   "cell_type": "code",
   "execution_count": 98,
   "metadata": {},
   "outputs": [
    {
     "name": "stdout",
     "output_type": "stream",
     "text": [
      "[0, 9, 7, 9, 8, 5, 4, 6, 5, 1]\n"
     ]
    }
   ],
   "source": [
    "manipulation.reverse()\n",
    "print(manipulation)"
   ]
  },
  {
   "cell_type": "code",
   "execution_count": 99,
   "metadata": {},
   "outputs": [
    {
     "name": "stdout",
     "output_type": "stream",
     "text": [
      "[0, 1, 4, 5, 5, 6, 7, 8, 9, 9]\n"
     ]
    }
   ],
   "source": [
    "# sorts a list.\n",
    "manipulation.sort()\n",
    "print(manipulation)"
   ]
  },
  {
   "cell_type": "code",
   "execution_count": 100,
   "metadata": {},
   "outputs": [
    {
     "data": {
      "text/plain": [
       "10"
      ]
     },
     "execution_count": 100,
     "metadata": {},
     "output_type": "execute_result"
    }
   ],
   "source": [
    "len(manipulation)"
   ]
  },
  {
   "cell_type": "code",
   "execution_count": 101,
   "metadata": {},
   "outputs": [
    {
     "data": {
      "text/plain": [
       "54"
      ]
     },
     "execution_count": 101,
     "metadata": {},
     "output_type": "execute_result"
    }
   ],
   "source": [
    "# sums all values of number iterable\n",
    "sum(manipulation)"
   ]
  },
  {
   "cell_type": "code",
   "execution_count": 102,
   "metadata": {},
   "outputs": [
    {
     "ename": "TypeError",
     "evalue": "unsupported operand type(s) for +: 'int' and 'str'",
     "output_type": "error",
     "traceback": [
      "\u001b[0;31m---------------------------------------------------------------------------\u001b[0m",
      "\u001b[0;31mTypeError\u001b[0m                                 Traceback (most recent call last)",
      "Cell \u001b[0;32mIn[102], line 2\u001b[0m\n\u001b[1;32m      1\u001b[0m teste \u001b[38;5;241m=\u001b[39m [\u001b[38;5;124m'\u001b[39m\u001b[38;5;124ma\u001b[39m\u001b[38;5;124m'\u001b[39m,\u001b[38;5;124m'\u001b[39m\u001b[38;5;124mb\u001b[39m\u001b[38;5;124m'\u001b[39m, \u001b[38;5;124m'\u001b[39m\u001b[38;5;124mc\u001b[39m\u001b[38;5;124m'\u001b[39m]\n\u001b[0;32m----> 2\u001b[0m \u001b[38;5;28;43msum\u001b[39;49m\u001b[43m(\u001b[49m\u001b[43mteste\u001b[49m\u001b[43m)\u001b[49m\n",
      "\u001b[0;31mTypeError\u001b[0m: unsupported operand type(s) for +: 'int' and 'str'"
     ]
    }
   ],
   "source": [
    "teste = ['a','b', 'c']\n",
    "sum(teste)"
   ]
  },
  {
   "cell_type": "markdown",
   "metadata": {},
   "source": [
    "## Slicing Lists\n",
    "\n",
    "slice syntax => og_iterable [init : end: jump]\n",
    "\n",
    "**og_iterable** -> original iterable/list \n",
    "\n",
    "**init**-> where to init slicing, first element being added\n",
    "\n",
    "**end** -> where to stop slicing, first element to  be excluded\n",
    "\n",
    "**jump** -> skip interval, by default is 1"
   ]
  },
  {
   "cell_type": "code",
   "execution_count": 104,
   "metadata": {},
   "outputs": [],
   "source": [
    "categories = ['Fruits', 'Vegetables', 'Dairy', 'Grains','Proteins', 'Beverages']"
   ]
  },
  {
   "cell_type": "code",
   "execution_count": 105,
   "metadata": {},
   "outputs": [
    {
     "name": "stdout",
     "output_type": "stream",
     "text": [
      "['Fruits', 'Vegetables', 'Dairy']\n"
     ]
    }
   ],
   "source": [
    "some_categories = categories[:3]\n",
    "print(some_categories)"
   ]
  },
  {
   "cell_type": "code",
   "execution_count": null,
   "metadata": {},
   "outputs": [
    {
     "name": "stdout",
     "output_type": "stream",
     "text": [
      "['Grains', 'Protein', 'Beverages']\n"
     ]
    }
   ],
   "source": [
    "last_ones =  categories[-3:]\n",
    "print(last_ones)"
   ]
  },
  {
   "cell_type": "code",
   "execution_count": 106,
   "metadata": {},
   "outputs": [
    {
     "name": "stdout",
     "output_type": "stream",
     "text": [
      "['Fruits', 'Dairy', 'Proteins']\n"
     ]
    }
   ],
   "source": [
    "even_categories =categories[::2]\n",
    "print(even_categories)"
   ]
  },
  {
   "cell_type": "code",
   "execution_count": 107,
   "metadata": {},
   "outputs": [
    {
     "name": "stdout",
     "output_type": "stream",
     "text": [
      "['Vegetables', 'Dairy', 'Grains', 'Proteins']\n"
     ]
    }
   ],
   "source": [
    "cat = categories[1:-1]\n",
    "print(cat)"
   ]
  }
 ],
 "metadata": {
  "kernelspec": {
   "display_name": "py312",
   "language": "python",
   "name": "python3"
  },
  "language_info": {
   "codemirror_mode": {
    "name": "ipython",
    "version": 3
   },
   "file_extension": ".py",
   "mimetype": "text/x-python",
   "name": "python",
   "nbconvert_exporter": "python",
   "pygments_lexer": "ipython3",
   "version": "3.12.1"
  }
 },
 "nbformat": 4,
 "nbformat_minor": 2
}
