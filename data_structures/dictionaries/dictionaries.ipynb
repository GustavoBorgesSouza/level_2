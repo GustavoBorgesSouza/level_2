{
 "cells": [
  {
   "cell_type": "markdown",
   "metadata": {},
   "source": [
    "#  Dictionaries\n",
    "\n",
    "Dictionaries are used to store data values in key:value pairs."
   ]
  },
  {
   "cell_type": "markdown",
   "metadata": {},
   "source": [
    "## Creating and Manipulating items\n"
   ]
  },
  {
   "cell_type": "code",
   "execution_count": 1,
   "metadata": {},
   "outputs": [
    {
     "name": "stdout",
     "output_type": "stream",
     "text": [
      "The object created is a <class 'dict'> type\n"
     ]
    }
   ],
   "source": [
    "aurelio = {}\n",
    "\n",
    "print(f'The object created is a {type(aurelio)} type')"
   ]
  },
  {
   "cell_type": "code",
   "execution_count": 2,
   "metadata": {},
   "outputs": [
    {
     "name": "stdout",
     "output_type": "stream",
     "text": [
      "{'Yoda': 'Jedi Master', 'Mace Windu': 'Jedi Master', 'Anakin Skywalker': 'Jedi Knight', 'Ahsoka Tano': 'Jedi Knight', 'Arturito': 'Droid', 'Dex': 'Waiter'}\n"
     ]
    }
   ],
   "source": [
    "aurelio = {\n",
    "    'Yoda': 'Jedi Master',\n",
    "    'Mace Windu': 'Jedi Master',\n",
    "    'Anakin Skywalker': 'Jedi Knight',\n",
    "    'Ahsoka Tano': 'Jedi Knight',\n",
    "    'Arturito' : 'Droid',\n",
    "    'Dex' : 'Waiter',\n",
    "}\n",
    "\n",
    "print(aurelio)"
   ]
  },
  {
   "cell_type": "code",
   "execution_count": 3,
   "metadata": {},
   "outputs": [
    {
     "name": "stdout",
     "output_type": "stream",
     "text": [
      "Jedi Master\n",
      "Jedi Master\n"
     ]
    }
   ],
   "source": [
    "#  Get value using key\n",
    "print(aurelio['Yoda'])\n",
    "# or\n",
    "print(aurelio.get('Yoda'))"
   ]
  },
  {
   "cell_type": "code",
   "execution_count": 4,
   "metadata": {},
   "outputs": [
    {
     "name": "stdout",
     "output_type": "stream",
     "text": [
      "Jedi Master\n",
      "Jedi Master\n",
      "Jedi Knight\n",
      "Jedi Knight\n",
      "Droid\n",
      "Waiter\n"
     ]
    }
   ],
   "source": [
    "# getting all values\n",
    "for value in aurelio.values():\n",
    "    print(value)"
   ]
  },
  {
   "cell_type": "code",
   "execution_count": 5,
   "metadata": {},
   "outputs": [
    {
     "name": "stdout",
     "output_type": "stream",
     "text": [
      "Yoda\n",
      "Mace Windu\n",
      "Anakin Skywalker\n",
      "Ahsoka Tano\n",
      "Arturito\n",
      "Dex\n"
     ]
    }
   ],
   "source": [
    "# getting all keys\n",
    "for key in aurelio.keys():\n",
    "    print(key)"
   ]
  },
  {
   "cell_type": "code",
   "execution_count": 6,
   "metadata": {},
   "outputs": [
    {
     "name": "stdout",
     "output_type": "stream",
     "text": [
      "The value Jedi Master is stored using the key Yoda\n",
      "The value Jedi Master is stored using the key Mace Windu\n",
      "The value Jedi Knight is stored using the key Anakin Skywalker\n",
      "The value Jedi Knight is stored using the key Ahsoka Tano\n",
      "The value Droid is stored using the key Arturito\n",
      "The value Waiter is stored using the key Dex\n"
     ]
    }
   ],
   "source": [
    "# getting all items\n",
    "for key, value in aurelio.items():\n",
    "    print(f'The value {value} is stored using the key {key}')"
   ]
  },
  {
   "cell_type": "code",
   "execution_count": 7,
   "metadata": {},
   "outputs": [
    {
     "name": "stdout",
     "output_type": "stream",
     "text": [
      "{'Yoda': 'Jedi Master', 'Mace Windu': 'Jedi Master', 'Anakin Skywalker': 'Jedi Knight', 'Ahsoka Tano': 'Jedi Knight', 'Arturito': 'Droid', 'Dex': 'Waiter', 'Luke Skywalker': 'Hero'}\n"
     ]
    }
   ],
   "source": [
    "# add data\n",
    "aurelio['Luke Skywalker'] = 'Hero'\n",
    "\n",
    "print(aurelio)"
   ]
  },
  {
   "cell_type": "code",
   "execution_count": 8,
   "metadata": {},
   "outputs": [
    {
     "name": "stdout",
     "output_type": "stream",
     "text": [
      "Protagonist\n",
      "Jedi Knight\n"
     ]
    }
   ],
   "source": [
    "# update data\n",
    "aurelio['Luke Skywalker'] = 'Protagonist'\n",
    "\n",
    "print(aurelio.get('Luke Skywalker'))\n",
    "\n",
    "# or\n",
    "\n",
    "aurelio.update({'Luke Skywalker'  : 'Jedi Knight'})\n",
    "print(aurelio['Luke Skywalker'])"
   ]
  },
  {
   "cell_type": "code",
   "execution_count": 9,
   "metadata": {},
   "outputs": [
    {
     "name": "stdout",
     "output_type": "stream",
     "text": [
      "{}\n"
     ]
    }
   ],
   "source": [
    "# Removing items\n",
    "\n",
    "# removing  item by key\n",
    "aurelio.pop('Dex')\n",
    "\n",
    "# removing last item\n",
    "aurelio.popitem()\n",
    "\n",
    "# removing all data\n",
    "aurelio.clear()\n",
    "\n",
    "print(aurelio)"
   ]
  },
  {
   "cell_type": "markdown",
   "metadata": {},
   "source": [
    "## Nested Dictionaries"
   ]
  },
  {
   "cell_type": "code",
   "execution_count": 10,
   "metadata": {},
   "outputs": [],
   "source": [
    "contacts = {\n",
    "    'Bruce Wayne' : {\n",
    "        'Phone' : '11956870459',\n",
    "        'Email' : 'bestdetective@batman.com',\n",
    "    },\n",
    "    'Richard Grayson' : {\n",
    "        'Phone' : '11956460459',\n",
    "        'Email' : 'boywonder@batman.com',\n",
    "    },\n",
    "}"
   ]
  },
  {
   "cell_type": "code",
   "execution_count": 12,
   "metadata": {},
   "outputs": [
    {
     "name": "stdout",
     "output_type": "stream",
     "text": [
      "The contact Bruce Wayne has the Phone 11956870459\n",
      "The contact Bruce Wayne has the Email bestdetective@batman.com\n",
      "The contact Richard Grayson has the Phone 11956460459\n",
      "The contact Richard Grayson has the Email boywonder@batman.com\n"
     ]
    }
   ],
   "source": [
    "for contact, info in  contacts.items():\n",
    "\n",
    "    for contactType, value in info.items():\n",
    "        print(f'The contact {contact} has the {contactType} {value}')"
   ]
  }
 ],
 "metadata": {
  "kernelspec": {
   "display_name": "py312",
   "language": "python",
   "name": "python3"
  },
  "language_info": {
   "codemirror_mode": {
    "name": "ipython",
    "version": 3
   },
   "file_extension": ".py",
   "mimetype": "text/x-python",
   "name": "python",
   "nbconvert_exporter": "python",
   "pygments_lexer": "ipython3",
   "version": "3.12.1"
  }
 },
 "nbformat": 4,
 "nbformat_minor": 2
}
