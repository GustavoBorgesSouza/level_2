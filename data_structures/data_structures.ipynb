{
 "cells": [
  {
   "cell_type": "markdown",
   "metadata": {},
   "source": [
    "# Links:\n",
    "\n",
    "- ## [Python Docs](https://docs.python.org/3/tutorial/datastructures.html)\n",
    "- ## [Useful Website](https://www.geeksforgeeks.org/python-data-structures/)\n",
    "- ## [Guide](https://realpython.com/python-data-structures/#list-mutable-dynamic-arrays)\n"
   ]
  }
 ],
 "metadata": {
  "language_info": {
   "name": "python"
  }
 },
 "nbformat": 4,
 "nbformat_minor": 2
}
