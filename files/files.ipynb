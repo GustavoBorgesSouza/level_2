{
 "cells": [
  {
   "cell_type": "markdown",
   "metadata": {},
   "source": [
    "# Handling files in python"
   ]
  },
  {
   "cell_type": "markdown",
   "metadata": {},
   "source": [
    "## Open and read files"
   ]
  },
  {
   "cell_type": "code",
   "execution_count": 47,
   "metadata": {},
   "outputs": [
    {
     "name": "stdout",
     "output_type": "stream",
     "text": [
      "<class '_io.TextIOWrapper'>\n"
     ]
    }
   ],
   "source": [
    "filezinho = open('/home/borges/dev/level2/files/file.txt')\n",
    "\n",
    "print(type(filezinho))"
   ]
  },
  {
   "cell_type": "code",
   "execution_count": 48,
   "metadata": {},
   "outputs": [],
   "source": [
    "for line in filezinho.readlines():\n",
    "    print(line, end='')\n",
    "filezinho.close()"
   ]
  },
  {
   "cell_type": "markdown",
   "metadata": {},
   "source": [
    "## Write files"
   ]
  },
  {
   "cell_type": "markdown",
   "metadata": {},
   "source": [
    "### use open() funcion with different opening modes "
   ]
  },
  {
   "cell_type": "code",
   "execution_count": 61,
   "metadata": {},
   "outputs": [
    {
     "name": "stdout",
     "output_type": "stream",
     "text": [
      "Talent is something you bloom, Instinct is something you polish.\n",
      "\n",
      "He who would climb the ladder must begin at the bottom\n",
      "\n",
      "You gotta do it every day! properly every day."
     ]
    }
   ],
   "source": [
    "contents = '\\n\\nYou gotta do it every day! properly every day.'\n",
    "\n",
    "quotes = open('/home/borges/dev/level2/files/file.txt', 'a')\n",
    "\n",
    "quotes.write(contents)\n",
    "\n",
    "quotes = open('/home/borges/dev/level2/files/file.txt')\n",
    "\n",
    "for line in quotes.readlines():\n",
    "    print(line, end='')\n",
    "\n",
    "quotes.close()"
   ]
  },
  {
   "cell_type": "markdown",
   "metadata": {},
   "source": [
    "## Best practices\n",
    "\n",
    "### Using try, finally and with open()"
   ]
  },
  {
   "cell_type": "code",
   "execution_count": 1,
   "metadata": {},
   "outputs": [
    {
     "name": "stdout",
     "output_type": "stream",
     "text": [
      "Talent is something you bloom, Instinct is something you polish.\n",
      "\n",
      "He who would climb the ladder must begin at the bottom\n",
      "\n",
      "You gotta do it every day! properly every day."
     ]
    }
   ],
   "source": [
    "try:\n",
    "    quotes = open('/home/borges/dev/level2/files/file.txt')\n",
    "    for line in quotes.readlines():\n",
    "        print(line, end='')\n",
    "finally:\n",
    "    quotes.close()"
   ]
  }
 ],
 "metadata": {
  "kernelspec": {
   "display_name": "py312",
   "language": "python",
   "name": "python3"
  },
  "language_info": {
   "codemirror_mode": {
    "name": "ipython",
    "version": 3
   },
   "file_extension": ".py",
   "mimetype": "text/x-python",
   "name": "python",
   "nbconvert_exporter": "python",
   "pygments_lexer": "ipython3",
   "version": "3.12.1"
  }
 },
 "nbformat": 4,
 "nbformat_minor": 2
}
