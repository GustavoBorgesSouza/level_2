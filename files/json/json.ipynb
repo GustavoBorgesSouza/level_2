{
 "cells": [
  {
   "cell_type": "markdown",
   "metadata": {},
   "source": [
    "# Json\n",
    "\n",
    "## Javascript obejct  notation is a pattern for formmating and passing data between systems"
   ]
  },
  {
   "cell_type": "markdown",
   "metadata": {},
   "source": [
    "### Wow, json are just like python dictionaries."
   ]
  },
  {
   "cell_type": "code",
   "execution_count": 22,
   "metadata": {},
   "outputs": [
    {
     "name": "stdout",
     "output_type": "stream",
     "text": [
      "{\n",
      "  \"Bruce Wayne\": {\n",
      "    \"Phone\": \"11956870459\",\n",
      "    \"Email\": \"bestdetective@batman.com\"\n",
      "  },\n",
      "  \"Richard Grayson\": {\n",
      "    \"Phone\": \"11956460459\",\n",
      "    \"Email\": \"boywonder@batman.com\"\n",
      "  }\n",
      "}\n"
     ]
    }
   ],
   "source": [
    "import json\n",
    "\n",
    "contacts = {\n",
    "    'Bruce Wayne' : {\n",
    "        'Phone' : '11956870459',\n",
    "        'Email' : 'bestdetective@batman.com',\n",
    "    },\n",
    "    'Richard Grayson' : {\n",
    "        'Phone' : '11956460459',\n",
    "        'Email' : 'boywonder@batman.com',\n",
    "    },\n",
    "}\n",
    "\n",
    "# dictionary converted to json string\n",
    "converted = json.dumps(contacts, indent=2)\n",
    "\n",
    "print(converted) "
   ]
  },
  {
   "cell_type": "code",
   "execution_count": 23,
   "metadata": {},
   "outputs": [],
   "source": [
    "file = open('/home/borges/dev/level2/files/json/contacts.json', 'a', newline='\\n')\n",
    "\n",
    "file.write(converted)\n",
    "\n",
    "file.close()"
   ]
  },
  {
   "cell_type": "markdown",
   "metadata": {},
   "source": [
    "### Json to dictionary"
   ]
  },
  {
   "cell_type": "code",
   "execution_count": 24,
   "metadata": {},
   "outputs": [
    {
     "name": "stdout",
     "output_type": "stream",
     "text": [
      "Agenda contents is a <class 'dict'> type\n"
     ]
    }
   ],
   "source": [
    "import json\n",
    "\n",
    "filo = open('/home/borges/dev/level2/files/json/contacts.json')\n",
    "\n",
    "file_contents = filo.read()\n",
    "filo.close()\n",
    "\n",
    "agenda = json.loads(file_contents)\n",
    "\n",
    "print(f'Agenda contents is a {type(agenda)} type')"
   ]
  },
  {
   "cell_type": "code",
   "execution_count": 34,
   "metadata": {},
   "outputs": [
    {
     "name": "stdout",
     "output_type": "stream",
     "text": [
      "Bruce Wayne Phone is 11956870459\n",
      "Bruce Wayne Email is bestdetective@batman.com\n",
      "Richard Grayson Phone is 11956460459\n",
      "Richard Grayson Email is boywonder@batman.com\n"
     ]
    }
   ],
   "source": [
    "for k, v in agenda.items():\n",
    "    for key, value in v.items():\n",
    "        print(f'{k} {key} is {value}')\n",
    "\n",
    "# This comproves is a nested dict"
   ]
  }
 ],
 "metadata": {
  "kernelspec": {
   "display_name": "py312",
   "language": "python",
   "name": "python3"
  },
  "language_info": {
   "codemirror_mode": {
    "name": "ipython",
    "version": 3
   },
   "file_extension": ".py",
   "mimetype": "text/x-python",
   "name": "python",
   "nbconvert_exporter": "python",
   "pygments_lexer": "ipython3",
   "version": "3.12.1"
  }
 },
 "nbformat": 4,
 "nbformat_minor": 2
}
