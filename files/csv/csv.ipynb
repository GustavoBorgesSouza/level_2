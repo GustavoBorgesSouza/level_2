{
 "cells": [
  {
   "cell_type": "markdown",
   "metadata": {},
   "source": [
    "# CSV \n",
    "\n",
    "## CSV is a pattern used to store data in files. Using Comma Separated Values"
   ]
  },
  {
   "cell_type": "code",
   "execution_count": 11,
   "metadata": {},
   "outputs": [
    {
     "name": "stdout",
     "output_type": "stream",
     "text": [
      "Luke Skywalker is 23 years old and lives in Israel\n",
      "Jane Ramos is 90 years old and lives in Venezuela\n",
      "Justin Logan is 95 years old and lives in Japan\n",
      "Shane Nelson is 80 years old and lives in Tristan da Cunha\n",
      "Darrell Swanson is 56 years old and lives in Isle of Man\n",
      "Dorothy Gray is 20 years old and lives in Mali\n",
      "Henrietta Moss is 85 years old and lives in Norfolk IslandCaleb Logan\n",
      "Caleb Logan is 26 years old and lives in Lithuania\n",
      "Caleb Logan is 26 years old and lives in Lithuania\n"
     ]
    }
   ],
   "source": [
    "import csv\n",
    "\n",
    "with open('/home/borges/dev/level2/files/csv/people.csv') as csv_file:\n",
    "    reader = csv.reader(csv_file, delimiter=',', quotechar='\"')\n",
    "    next(reader) #ignores first line, the columnn headings\n",
    "    for line in reader:\n",
    "        print(f'{line[0]} is {line[1]} years old and lives in {line[2]}')"
   ]
  },
  {
   "cell_type": "code",
   "execution_count": 12,
   "metadata": {},
   "outputs": [],
   "source": [
    "person_data  = ['Caleb Logan','26','Lithuania']\n",
    "\n",
    "with open('/home/borges/dev/level2/files/csv/people.csv', mode='a', newline='\\n') as csv_file:\n",
    "    writer = csv.writer(csv_file, delimiter=',')\n",
    "    writer.writerow(person_data)"
   ]
  }
 ],
 "metadata": {
  "kernelspec": {
   "display_name": "py312",
   "language": "python",
   "name": "python3"
  },
  "language_info": {
   "codemirror_mode": {
    "name": "ipython",
    "version": 3
   },
   "file_extension": ".py",
   "mimetype": "text/x-python",
   "name": "python",
   "nbconvert_exporter": "python",
   "pygments_lexer": "ipython3",
   "version": "3.12.1"
  }
 },
 "nbformat": 4,
 "nbformat_minor": 2
}
