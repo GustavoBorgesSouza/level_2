{
 "cells": [
  {
   "cell_type": "markdown",
   "metadata": {},
   "source": [
    "# Functions"
   ]
  },
  {
   "cell_type": "markdown",
   "metadata": {},
   "source": [
    "## Basic Usage"
   ]
  },
  {
   "cell_type": "code",
   "execution_count": 47,
   "metadata": {},
   "outputs": [
    {
     "name": "stdout",
     "output_type": "stream",
     "text": [
      "\n",
      "The Average Velocity is 3.0 km/h\n",
      "Displacement - 6.0km\n",
      "Time - 2.0h\n",
      "\n"
     ]
    }
   ],
   "source": [
    "# Function that calculates Average Velocity\n",
    "def calcAverageVelocity():\n",
    "    displacement = float(input(\"Type the displacement in kilometers\"))\n",
    "    time = float(input(\"Type the trip time in hours\"))\n",
    "\n",
    "    average_velocity = displacement/time\n",
    "\n",
    "    print(\n",
    "f\"\"\"\n",
    "The Average Velocity is {average_velocity} km/h\n",
    "Displacement - {displacement}km\n",
    "Time - {time}h\n",
    "\"\"\")\n",
    "\n",
    "calcAverageVelocity()"
   ]
  },
  {
   "cell_type": "markdown",
   "metadata": {},
   "source": [
    "## Usage with parameters"
   ]
  },
  {
   "cell_type": "code",
   "execution_count": 41,
   "metadata": {},
   "outputs": [
    {
     "name": "stdout",
     "output_type": "stream",
     "text": [
      "\n",
      "The Average Velocity is 200.0 km/h\n",
      "Displacement - 200.0km\n",
      "Time - 1h\n",
      "\n",
      "\n",
      "The Average Velocity is 66.66666666666667 km/h\n",
      "Displacement - 200.0km\n",
      "Time - 3.0h\n",
      "\n"
     ]
    }
   ],
   "source": [
    "inputDisplacement = float(input(\"Type the displacement in kilometers\"))\n",
    "inputTime = float(input(\"Type the trip time in hours\"))\n",
    "\n",
    "# Function that calculates Average Velocity with parameters\n",
    "# The parameters are displacement and time, both are float types and if no time parameter is set, it will have the default value of 1\n",
    "def calcAverageVelocity(displacement: float, time : float=1):\n",
    "    average_velocity = displacement/time\n",
    "\n",
    "    print(\n",
    "f\"\"\"\n",
    "The Average Velocity is {average_velocity} km/h\n",
    "Displacement - {displacement}km\n",
    "Time - {time}h\n",
    "\"\"\")\n",
    "\n",
    "\n",
    "calcAverageVelocity(inputDisplacement)\n",
    "calcAverageVelocity(inputDisplacement, inputTime)"
   ]
  },
  {
   "cell_type": "markdown",
   "metadata": {},
   "source": [
    "## Return value from a function"
   ]
  },
  {
   "cell_type": "code",
   "execution_count": 42,
   "metadata": {},
   "outputs": [
    {
     "name": "stdout",
     "output_type": "stream",
     "text": [
      "\n",
      "The Average Velocity is 75.0 km/h\n",
      "Displacement - 150.0km\n",
      "Time - 2.0h\n",
      "\n"
     ]
    }
   ],
   "source": [
    "# Function that calculates AND RETURNS the Average Velocity with parameters\n",
    "def calcAverageVelocity(displacement: float, time : float=1) -> float:\n",
    "    average_velocity = displacement/time\n",
    "\n",
    "    return average_velocity\n",
    "\n",
    "inputDisplacement = float(input(\"Type the displacement in kilometers\"))\n",
    "inputTime = float(input(\"Type the trip time in hours\"))\n",
    "\n",
    "returned_avg_velocity = calcAverageVelocity(inputDisplacement, inputTime)\n",
    "\n",
    "print(\n",
    "f\"\"\"\n",
    "The Average Velocity is {returned_avg_velocity} km/h\n",
    "Displacement - {inputDisplacement}km\n",
    "Time - {inputTime}h\n",
    "\"\"\")"
   ]
  },
  {
   "cell_type": "markdown",
   "metadata": {},
   "source": [
    "## Multiple Parameters"
   ]
  },
  {
   "cell_type": "code",
   "execution_count": 43,
   "metadata": {},
   "outputs": [
    {
     "name": "stdout",
     "output_type": "stream",
     "text": [
      "Hello, World! How are you?\n",
      "Hello, João! How are you?\n",
      "Hello, Maria! How are you?\n",
      "Hello, Pedrinho! How are you?\n"
     ]
    }
   ],
   "source": [
    "# Function that recieves multiple parameters\n",
    "def greetings(greeting: str, *names: str):\n",
    "    for i in names:\n",
    "        print(f'{greeting}, {i}! How are you?')\n",
    "\n",
    "\n",
    "greetings('Hello', 'World', 'João', 'Maria', 'Pedrinho')"
   ]
  },
  {
   "cell_type": "markdown",
   "metadata": {},
   "source": [
    "## Lambda functions / inLine Functions\n",
    "\n",
    "### lambda arguments : expression"
   ]
  },
  {
   "cell_type": "code",
   "execution_count": 44,
   "metadata": {},
   "outputs": [
    {
     "name": "stdout",
     "output_type": "stream",
     "text": [
      "3\n"
     ]
    }
   ],
   "source": [
    "sumar = lambda a , b : a + b\n",
    "\n",
    "print(sumar(1, 2))"
   ]
  },
  {
   "cell_type": "markdown",
   "metadata": {},
   "source": [
    "### lambda with conditionals\n",
    "### lambda arguments: expression if condition else expression2"
   ]
  },
  {
   "cell_type": "code",
   "execution_count": 45,
   "metadata": {},
   "outputs": [
    {
     "name": "stdout",
     "output_type": "stream",
     "text": [
      "-1 is Negative\n",
      "56 is Positive\n"
     ]
    }
   ],
   "source": [
    "testPositive = lambda x: \"Positive\" if x >= 0 else \"Negative\"\n",
    "\n",
    "print(f'-1 is {testPositive(-1)}')\n",
    "print(f'56 is {testPositive(56)}')\n"
   ]
  },
  {
   "cell_type": "markdown",
   "metadata": {},
   "source": [
    "## Map -> Using functions in map builtin method\n",
    "### map(func, iter)"
   ]
  },
  {
   "cell_type": "code",
   "execution_count": 46,
   "metadata": {},
   "outputs": [
    {
     "name": "stdout",
     "output_type": "stream",
     "text": [
      "[2, 4, 6, 8, 10]\n",
      "Lamda result [2, 4, 6, 8, 10]\n"
     ]
    }
   ],
   "source": [
    "def double(x) -> float:\n",
    "    return 2 * x\n",
    "result = list(map(double, [1, 2, 3, 4, 5]))\n",
    "print(result)\n",
    "\n",
    "# Same function using lambda\n",
    "resultLambda = list(map(lambda x : x *2, [1, 2, 3, 4, 5]))\n",
    "print(f'Lamda result {resultLambda}')"
   ]
  }
 ],
 "metadata": {
  "kernelspec": {
   "display_name": "py312",
   "language": "python",
   "name": "python3"
  },
  "language_info": {
   "codemirror_mode": {
    "name": "ipython",
    "version": 3
   },
   "file_extension": ".py",
   "mimetype": "text/x-python",
   "name": "python",
   "nbconvert_exporter": "python",
   "pygments_lexer": "ipython3",
   "version": "3.12.1"
  }
 },
 "nbformat": 4,
 "nbformat_minor": 2
}
