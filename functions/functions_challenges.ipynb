{
 "cells": [
  {
   "cell_type": "markdown",
   "metadata": {},
   "source": [
    "# Challenges"
   ]
  },
  {
   "cell_type": "markdown",
   "metadata": {},
   "source": [
    "## Vai de Pizza?\n",
    "\n",
    "\n",
    "Vamos colocar a mão na massa pensando em pizza. Você é dono de uma pizzaria e está desenvolvendo\n",
    "um sistema de entrega para seus clientes. Cada cliente pode escolher o tamanho da pizza (pequena, mé-\n",
    "dia ou grande) e a quantidade de sabores (1, 2 ou 3). \n",
    "\n",
    "Seu sistema precisa calcular o preço final da pizza,\n",
    "levando em consideração o tamanho e a quantidade de sabores.\n",
    "\n",
    "A pizza pequena custa R$20,00, a média custa R$30,00 e a grande custa R$40,00. Cada sabor adicional custa R$5,00.\n",
    "\n",
    "Crie uma função chamada \"calcula pizza” que receba o tamanho e a quantidade de sabores da pizza e\n",
    "retorne o preço final.\n"
   ]
  },
  {
   "cell_type": "code",
   "execution_count": 11,
   "metadata": {},
   "outputs": [
    {
     "name": "stdout",
     "output_type": "stream",
     "text": [
      "20\n",
      "20\n",
      "35\n",
      "50\n"
     ]
    }
   ],
   "source": [
    "# Vai de Pizza challenge\n",
    "\n",
    "\n",
    "def calcula_pizza(tamanho: str, qtd_sabores: int=1) -> float:\n",
    "    price = 0\n",
    "    if tamanho.lower() == 'pequena':\n",
    "        price = 20\n",
    "    elif tamanho.lower() == 'media':\n",
    "        price = 30\n",
    "    else:\n",
    "        price = 40\n",
    "\n",
    "    price += 5 * (qtd_sabores -1)\n",
    "\n",
    "    return price\n",
    "\n",
    "print(calcula_pizza('pequena'))\n",
    "print(calcula_pizza('pequena', 1))\n",
    "print(calcula_pizza('media', 2))\n",
    "print(calcula_pizza('grande', 3))"
   ]
  },
  {
   "cell_type": "markdown",
   "metadata": {},
   "source": [
    "## Viagem intergaláctica\n",
    "\n",
    "Imagine que a equipe de Han Solo precisa escolher o próximo destino para a sua viagem através da galá-xia. Eles têm uma lista de planetas que gostariam de visitar, mas querem filtrar apenas aqueles que tenham uma atmosfera respirável.\n",
    "\n",
    "Dos planetas \"Tatooine\", \"Hoth\", \"Endor\", \"Alderaan\", \"Naboo\", somente \"Hoth\" não possui uma atmosfera respirável. \n",
    "\n",
    "Podemos usar a função map para aplicar a função lambda que verifica se o planeta tem atmosfera respirável ou não."
   ]
  },
  {
   "cell_type": "code",
   "execution_count": 6,
   "metadata": {},
   "outputs": [
    {
     "data": {
      "text/plain": [
       "['Pode respirar viu ;)',\n",
       " 'Leva tanque de óxigenio, dá pra respirar não',\n",
       " 'Pode respirar viu ;)',\n",
       " 'Pode respirar viu ;)',\n",
       " 'Pode respirar viu ;)']"
      ]
     },
     "execution_count": 6,
     "metadata": {},
     "output_type": "execute_result"
    }
   ],
   "source": [
    "planets = [\"Tatooine\", \"Hoth\", \"Endor\", \"Alderaan\", \"Naboo\"]\n",
    "\n",
    "list(map(lambda p: 'Pode respirar viu ;)' if p != 'Hoth' else 'Leva tanque de óxigenio, dá pra respirar não', planets))"
   ]
  }
 ],
 "metadata": {
  "kernelspec": {
   "display_name": "py312",
   "language": "python",
   "name": "python3"
  },
  "language_info": {
   "codemirror_mode": {
    "name": "ipython",
    "version": 3
   },
   "file_extension": ".py",
   "mimetype": "text/x-python",
   "name": "python",
   "nbconvert_exporter": "python",
   "pygments_lexer": "ipython3",
   "version": "3.12.1"
  }
 },
 "nbformat": 4,
 "nbformat_minor": 2
}
